{
 "cells": [
  {
   "cell_type": "code",
   "execution_count": 7,
   "id": "6d643599",
   "metadata": {},
   "outputs": [
    {
     "name": "stdout",
     "output_type": "stream",
     "text": [
      "Found existing installation: pdfminer 20191125\n",
      "Uninstalling pdfminer-20191125:\n",
      "  Successfully uninstalled pdfminer-20191125\n",
      "Collecting pdfminer.six\n",
      "  Downloading pdfminer_six-20250506-py3-none-any.whl.metadata (4.2 kB)\n",
      "Collecting charset-normalizer>=2.0.0 (from pdfminer.six)\n",
      "  Using cached charset_normalizer-3.4.2-cp310-cp310-win_amd64.whl.metadata (36 kB)\n",
      "Collecting cryptography>=36.0.0 (from pdfminer.six)\n",
      "  Downloading cryptography-45.0.4-cp37-abi3-win_amd64.whl.metadata (5.7 kB)\n",
      "Collecting cffi>=1.14 (from cryptography>=36.0.0->pdfminer.six)\n",
      "  Downloading cffi-1.17.1-cp310-cp310-win_amd64.whl.metadata (1.6 kB)\n",
      "Collecting pycparser (from cffi>=1.14->cryptography>=36.0.0->pdfminer.six)\n",
      "  Using cached pycparser-2.22-py3-none-any.whl.metadata (943 bytes)\n",
      "Downloading pdfminer_six-20250506-py3-none-any.whl (5.6 MB)\n",
      "   ---------------------------------------- 0.0/5.6 MB ? eta -:--:--\n",
      "   --------- ------------------------------ 1.3/5.6 MB 9.6 MB/s eta 0:00:01\n",
      "   ---------------------------------------- 5.6/5.6 MB 19.1 MB/s eta 0:00:00\n",
      "Using cached charset_normalizer-3.4.2-cp310-cp310-win_amd64.whl (105 kB)\n",
      "Downloading cryptography-45.0.4-cp37-abi3-win_amd64.whl (3.4 MB)\n",
      "   ---------------------------------------- 0.0/3.4 MB ? eta -:--:--\n",
      "   ---------------------------------------- 3.4/3.4 MB 49.7 MB/s eta 0:00:00\n",
      "Downloading cffi-1.17.1-cp310-cp310-win_amd64.whl (181 kB)\n",
      "Using cached pycparser-2.22-py3-none-any.whl (117 kB)\n",
      "Installing collected packages: pycparser, charset-normalizer, cffi, cryptography, pdfminer.six\n",
      "\n",
      "   ---------------------------------------- 0/5 [pycparser]\n",
      "   ---------------------------------------- 0/5 [pycparser]\n",
      "   ---------------------------------------- 0/5 [pycparser]\n",
      "   ---------------------------------------- 0/5 [pycparser]\n",
      "   ---------------------------------------- 0/5 [pycparser]\n",
      "   ---------------------------------------- 0/5 [pycparser]\n",
      "   -------- ------------------------------- 1/5 [charset-normalizer]\n",
      "   -------- ------------------------------- 1/5 [charset-normalizer]\n",
      "   -------- ------------------------------- 1/5 [charset-normalizer]\n",
      "   -------- ------------------------------- 1/5 [charset-normalizer]\n",
      "   -------- ------------------------------- 1/5 [charset-normalizer]\n",
      "   -------- ------------------------------- 1/5 [charset-normalizer]\n",
      "   -------- ------------------------------- 1/5 [charset-normalizer]\n",
      "   -------- ------------------------------- 1/5 [charset-normalizer]\n",
      "   -------- ------------------------------- 1/5 [charset-normalizer]\n",
      "   -------- ------------------------------- 1/5 [charset-normalizer]\n",
      "   ---------------- ----------------------- 2/5 [cffi]\n",
      "   ---------------- ----------------------- 2/5 [cffi]\n",
      "   ---------------- ----------------------- 2/5 [cffi]\n",
      "   ---------------- ----------------------- 2/5 [cffi]\n",
      "   ------------------------ --------------- 3/5 [cryptography]\n",
      "   ------------------------ --------------- 3/5 [cryptography]\n",
      "   ------------------------ --------------- 3/5 [cryptography]\n",
      "   ------------------------ --------------- 3/5 [cryptography]\n",
      "   ------------------------ --------------- 3/5 [cryptography]\n",
      "   ------------------------ --------------- 3/5 [cryptography]\n",
      "   ------------------------ --------------- 3/5 [cryptography]\n",
      "   ------------------------ --------------- 3/5 [cryptography]\n",
      "   ------------------------ --------------- 3/5 [cryptography]\n",
      "   ------------------------ --------------- 3/5 [cryptography]\n",
      "   ------------------------ --------------- 3/5 [cryptography]\n",
      "   ------------------------ --------------- 3/5 [cryptography]\n",
      "   ------------------------ --------------- 3/5 [cryptography]\n",
      "   ------------------------ --------------- 3/5 [cryptography]\n",
      "   -------------------------------- ------- 4/5 [pdfminer.six]\n",
      "   -------------------------------- ------- 4/5 [pdfminer.six]\n",
      "   -------------------------------- ------- 4/5 [pdfminer.six]\n",
      "   -------------------------------- ------- 4/5 [pdfminer.six]\n",
      "   -------------------------------- ------- 4/5 [pdfminer.six]\n",
      "   -------------------------------- ------- 4/5 [pdfminer.six]\n",
      "   -------------------------------- ------- 4/5 [pdfminer.six]\n",
      "   -------------------------------- ------- 4/5 [pdfminer.six]\n",
      "   -------------------------------- ------- 4/5 [pdfminer.six]\n",
      "   -------------------------------- ------- 4/5 [pdfminer.six]\n",
      "   ---------------------------------------- 5/5 [pdfminer.six]\n",
      "\n",
      "Successfully installed cffi-1.17.1 charset-normalizer-3.4.2 cryptography-45.0.4 pdfminer.six-20250506 pycparser-2.22\n"
     ]
    }
   ],
   "source": [
    "!pip uninstall pdfminer -y\n",
    "!pip install pdfminer.six\n"
   ]
  },
  {
   "cell_type": "code",
   "execution_count": 10,
   "id": "e1a7bd58",
   "metadata": {},
   "outputs": [
    {
     "data": {
      "text/plain": [
       "'Astha Vashisth\\nRoll No.: 2022UEC1671\\nBachelor Of Technology\\nElectronics and Communication engineering\\nMalaviya National Institute Of Technology, Jaipur\\n\\n(cid:131) +91-9828919203\\n# astha.vashisth136@gmail.com\\n# 2022UEC1671@mnit.ac.in\\n§ GitHub Profile\\n(cid:239) LinkedIn Profile\\n\\nEducation\\n\\n•Malaviya National Institute of Technology, Jaipur,Rajasthan\\nB.Tech in Electronics and Communication engineering\\n\\n•Vrindavan International Public School,Neemrana,Rajasthan\\nSenior Secondary Education(CBSE)\\n\\n•Kerala Public School,Rewari,Haryana\\nSecondary Education(CBSE)\\n\\nProjects\\n\\nNews Website - Globe News\\n\\n2026\\n\\nCGPA: 8.14\\n\\n2021\\n\\nPercentage: 92\\n\\n2019\\n\\nPercentage: 94.8\\n\\nGithub\\n\\nTools & technologies used: HTML, CSS, JS, and News API\\nDeveloped a news website using the News API with HTML, CSS, and JavaScript. The site dynamically fetches\\nand displays news articles based on user queries. It features an interactive search bar, category navigation, and\\na visually engaging design. This project showcases skills in API integration and front-end development.\\n\\nCafe’s Website\\n\\nGithub\\n\\nTools & technologies used: HTML, CSS and JS\\nBuilt a retro-themed cafe website using HTML, CSS, and JavaScript. The site includes sections for the menu,\\nevents, gallery, and customer testimonials. It features a dark design with playful fonts and interactive elements\\nlike smooth scrolling and form validation. This project highlights skills in front-end development, including\\nsemantic HTML, CSS styling, and JavaScript functionality\\n\\nNotes Web Application\\n\\nGithub\\n\\nTools & technologies used: HTML, CSS and JS\\nDeveloped a notes web application using HTML, CSS, and JavaScript. The app features a dynamic interface\\nallowing users to create, edit, and delete notes. Utilizes localStorage to save notes across sessions. Implemented\\ninteractive elements including editable note boxes and delete icons. The project demonstrates skills in front-end\\ndevelopment, localStorage management, and JavaScript event handling.\\n\\nTechnical Skills and Interests\\n\\nLanguages: C ,C++ ,HTML ,CSS ,Javascript , MySQL\\nSoft Skills: Communication, Problem Solving , Teamwork ,Time management\\nCloud/Databases: MySQL\\nTools used:VS Code, MySQL Workbench ,Git, GitHub\\nCoursework:Introduction to Computer Science ,Data Structures and Algorithms, Operating Systems , Object Oriented\\nProgramming Systems(OOPS), Database Management Systems\\n\\nPositions of Responsibility\\n\\n•Lead Anchor, Pronite ,Sphinx\\n\\n•Ideation Team Member, Sphinx\\n\\n•Executive, Cultural team ,Sphinx\\n\\n•Lead Organizer , Rube-a-thon,Sphinx\\n\\n•Volunteer , Publicity team,Blitzschlag\\n\\n•Active member, Computer Science Club and NSS Society\\n\\n2023\\n\\n2023\\n\\n2023\\n\\n2023\\n\\n2023\\n\\n\\x0c'"
      ]
     },
     "execution_count": 10,
     "metadata": {},
     "output_type": "execute_result"
    }
   ],
   "source": [
    " import re\n",
    " from pdfminer.high_level import extract_text\n",
    "\n",
    " def extract_text_from_pdf(pdf_path):\n",
    "    return extract_text(pdf_path)\n",
    "\n",
    "resume_path=\"mock_resume.pdf\"\n",
    "text=extract_text_from_pdf(resume_path)\n",
    "text"
   ]
  },
  {
   "cell_type": "markdown",
   "id": "61de6d96",
   "metadata": {},
   "source": [
    "Extracting contact information"
   ]
  },
  {
   "cell_type": "code",
   "execution_count": 12,
   "id": "26340c88",
   "metadata": {},
   "outputs": [
    {
     "data": {
      "text/plain": [
       "'91-9828919203'"
      ]
     },
     "execution_count": 12,
     "metadata": {},
     "output_type": "execute_result"
    }
   ],
   "source": [
    "import re\n",
    "\n",
    "def extract_contact_number_from_resume(text):\n",
    "    contact_number = None\n",
    "\n",
    "   \n",
    "    pattern = r\"\\b(?:\\+?\\d{1,3}[-.\\s]?)?\\(?\\d{3}\\)?[-.\\s]?\\d{3}[-.\\s]?\\d{4}\\b\"\n",
    "    match = re.search(pattern, text)\n",
    "    if match:\n",
    "        contact_number = match.group()\n",
    "\n",
    "    return contact_number\n",
    "\n",
    "phone = extract_contact_number_from_resume(text)\n",
    "phone"
   ]
  },
  {
   "cell_type": "markdown",
   "id": "a386f477",
   "metadata": {},
   "source": [
    "Extracting email address"
   ]
  },
  {
   "cell_type": "code",
   "execution_count": 13,
   "id": "8a7f86cc",
   "metadata": {},
   "outputs": [
    {
     "data": {
      "text/plain": [
       "'astha.vashisth136@gmail.com'"
      ]
     },
     "execution_count": 13,
     "metadata": {},
     "output_type": "execute_result"
    }
   ],
   "source": [
    "import re\n",
    "\n",
    "def extract_email_from_resume(text):\n",
    "    email = None\n",
    "\n",
    "    \n",
    "    pattern = r\"\\b[A-Za-z0-9._%+-]+@[A-Za-z0-9.-]+\\.[A-Za-z]{2,}\\b\"\n",
    "    match = re.search(pattern, text)\n",
    "    if match:\n",
    "        email = match.group()\n",
    "\n",
    "    return email\n",
    "\n",
    "email = extract_email_from_resume(text)\n",
    "email"
   ]
  },
  {
   "cell_type": "markdown",
   "id": "9a1ef7e4",
   "metadata": {},
   "source": [
    "Extracting skills"
   ]
  },
  {
   "cell_type": "code",
   "execution_count": null,
   "id": "f5cdd52c",
   "metadata": {},
   "outputs": [
    {
     "name": "stdout",
     "output_type": "stream",
     "text": [
      "Skills: ['Communication', 'JavaScript', 'HTML', 'CSS', 'Git', 'API Integration', 'MySQL']\n"
     ]
    }
   ],
   "source": [
    "import re\n",
    "\n",
    "def extract_skills_from_resume(text, skills_list):\n",
    "    skills = []\n",
    "\n",
    "    for skill in skills_list:\n",
    "        pattern = r\"\\b{}\\b\".format(re.escape(skill))\n",
    "        match = re.search(pattern, text, re.IGNORECASE)\n",
    "        if match:\n",
    "            skills.append(skill)\n",
    "\n",
    "    return skills\n",
    "\n",
    "\n",
    "skills_list = [\n",
    "    'Python', 'Data Analysis', 'Machine Learning', 'Communication', 'Project Management', 'Deep Learning', 'SQL', 'Tableau',\n",
    "    'Java', 'C++', 'JavaScript', 'HTML', 'CSS', 'React', 'Angular', 'Node.js', 'MongoDB', 'Express.js', 'Git',\n",
    "    'Research', 'Statistics', 'Quantitative Analysis', 'Qualitative Analysis', 'SPSS', 'R', 'Data Visualization', 'Matplotlib',\n",
    "    'Seaborn', 'Plotly', 'Pandas', 'Numpy', 'Scikit-learn', 'TensorFlow', 'Keras', 'PyTorch', 'NLTK', 'Text Mining',\n",
    "    'Natural Language Processing', 'Computer Vision', 'Image Processing', 'OCR', 'Speech Recognition', 'Recommendation Systems',\n",
    "    'Collaborative Filtering', 'Content-Based Filtering', 'Reinforcement Learning', 'Neural Networks', 'Convolutional Neural Networks',\n",
    "    'Recurrent Neural Networks', 'Generative Adversarial Networks', 'XGBoost', 'Random Forest', 'Decision Trees', 'Support Vector Machines',\n",
    "    'Linear Regression', 'Logistic Regression', 'K-Means Clustering', 'Hierarchical Clustering', 'DBSCAN', 'Association Rule Learning',\n",
    "    'Apache Hadoop', 'Apache Spark', 'MapReduce', 'Hive', 'HBase', 'Apache Kafka', 'Data Warehousing', 'ETL', 'Big Data Analytics',\n",
    "    'Cloud Computing', 'Amazon Web Services (AWS)', 'Microsoft Azure', 'Google Cloud Platform (GCP)', 'Docker', 'Kubernetes', 'Linux',\n",
    "    'Shell Scripting', 'Cybersecurity', 'Network Security', 'Penetration Testing', 'Firewalls', 'Encryption', 'Malware Analysis',\n",
    "    'Digital Forensics', 'CI/CD', 'DevOps', 'Agile Methodology', 'Scrum', 'Kanban', 'Continuous Integration', 'Continuous Deployment',\n",
    "    'Software Development', 'Web Development', 'Mobile Development', 'Backend Development', 'Frontend Development', 'Full-Stack Development',\n",
    "    'UI/UX Design', 'Responsive Design', 'Wireframing', 'Prototyping', 'User Testing', 'Adobe Creative Suite', 'Photoshop', 'Illustrator',\n",
    "    'InDesign', 'Figma', 'Sketch', 'Zeplin', 'InVision', 'Product Management', 'Market Research', 'Customer Development', 'Lean Startup',\n",
    "    'Business Development', 'Sales', 'Marketing', 'Content Marketing', 'Social Media Marketing', 'Email Marketing', 'SEO', 'SEM', 'PPC',\n",
    "    'Google Analytics', 'Facebook Ads', 'LinkedIn Ads', 'Lead Generation', 'Customer Relationship Management (CRM)', 'Salesforce',\n",
    "    'HubSpot', 'Zendesk', 'Intercom', 'Customer Support', 'Technical Support', 'Troubleshooting', 'Ticketing Systems', 'ServiceNow',\n",
    "    'ITIL', 'Quality Assurance', 'Manual Testing', 'Automated Testing', 'Selenium', 'JUnit', 'Load Testing', 'Performance Testing',\n",
    "    'Regression Testing', 'Black Box Testing', 'White Box Testing', 'API Testing', 'Mobile Testing', 'Usability Testing', 'Accessibility Testing',\n",
    "    'Cross-Browser Testing', 'Agile Testing', 'User Acceptance Testing', 'Software Documentation', 'Technical Writing', 'Copywriting',\n",
    "    'Editing', 'Proofreading', 'Content Management Systems (CMS)', 'WordPress', 'Joomla', 'Drupal', 'Magento', 'Shopify', 'E-commerce',\n",
    "    'Payment Gateways', 'Inventory Management', 'Supply Chain Management', 'Logistics', 'Procurement', 'ERP Systems', 'SAP', 'Oracle',\n",
    "    'Microsoft Dynamics', 'Tableau', 'Power BI', 'QlikView', 'Looker', 'Data Warehousing', 'ETL', 'Data Engineering', 'Data Governance',\n",
    "    'Data Quality', 'Master Data Management', 'Predictive Analytics', 'Prescriptive Analytics', 'Descriptive Analytics', 'Business Intelligence',\n",
    "    'Dashboarding', 'Reporting', 'Data Mining', 'Web Scraping', 'API Integration', 'RESTful APIs', 'GraphQL', 'SOAP', 'Microservices',\n",
    "    'Serverless Architecture', 'Lambda Functions', 'Event-Driven Architecture', 'Message Queues', 'GraphQL', 'Socket.io', 'WebSockets'\n",
    "'Ruby', 'Ruby on Rails', 'PHP', 'Symfony', 'Laravel', 'CakePHP', 'Zend Framework', 'ASP.NET', 'C#', 'VB.NET', 'ASP.NET MVC', 'Entity Framework',\n",
    "    'Spring', 'Hibernate', 'Struts', 'Kotlin', 'Swift', 'Objective-C', 'iOS Development', 'Android Development', 'Flutter', 'React Native', 'Ionic',\n",
    "    'Mobile UI/UX Design', 'Material Design', 'SwiftUI', 'RxJava', 'RxSwift', 'Django', 'Flask', 'FastAPI', 'Falcon', 'Tornado', 'WebSockets',\n",
    "    'GraphQL', 'RESTful Web Services', 'SOAP', 'Microservices Architecture', 'Serverless Computing', 'AWS Lambda', 'Google Cloud Functions',\n",
    "    'Azure Functions', 'Server Administration', 'System Administration', 'Network Administration', 'Database Administration', 'MySQL', 'PostgreSQL',\n",
    "    'SQLite', 'Microsoft SQL Server', 'Oracle Database', 'NoSQL', 'MongoDB', 'Cassandra', 'Redis', 'Elasticsearch', 'Firebase', 'Google Analytics',\n",
    "    'Google Tag Manager', 'Adobe Analytics', 'Marketing Automation', 'Customer Data Platforms', 'Segment', 'Salesforce Marketing Cloud', 'HubSpot CRM',\n",
    "    'Zapier', 'IFTTT', 'Workflow Automation', 'Robotic Process Automation (RPA)', 'UI Automation', 'Natural Language Generation (NLG)',\n",
    "    'Virtual Reality (VR)', 'Augmented Reality (AR)', 'Mixed Reality (MR)', 'Unity', 'Unreal Engine', '3D Modeling', 'Animation', 'Motion Graphics',\n",
    "    'Game Design', 'Game Development', 'Level Design', 'Unity3D', 'Unreal Engine 4', 'Blender', 'Maya', 'Adobe After Effects', 'Adobe Premiere Pro',\n",
    "    'Final Cut Pro', 'Video Editing', 'Audio Editing', 'Sound Design', 'Music Production', 'Digital Marketing', 'Content Strategy', 'Conversion Rate Optimization (CRO)',\n",
    "    'A/B Testing', 'Customer Experience (CX)', 'User Experience (UX)', 'User Interface (UI)', 'Persona Development', 'User Journey Mapping', 'Information Architecture (IA)',\n",
    "    'Wireframing', 'Prototyping', 'Usability Testing', 'Accessibility Compliance', 'Internationalization (I18n)', 'Localization (L10n)', 'Voice User Interface (VUI)',\n",
    "    'Chatbots', 'Natural Language Understanding (NLU)', 'Speech Synthesis', 'Emotion Detection', 'Sentiment Analysis', 'Image Recognition', 'Object Detection',\n",
    "    'Facial Recognition', 'Gesture Recognition', 'Document Recognition', 'Fraud Detection', 'Cyber Threat Intelligence', 'Security Information and Event Management (SIEM)',\n",
    "    'Vulnerability Assessment', 'Incident Response', 'Forensic Analysis', 'Security Operations Center (SOC)', 'Identity and Access Management (IAM)', 'Single Sign-On (SSO)',\n",
    "    'Multi-Factor Authentication (MFA)', 'Blockchain', 'Cryptocurrency', 'Decentralized Finance (DeFi)', 'Smart Contracts', 'Web3', 'Non-Fungible Tokens (NFTs)']\n",
    "\n",
    "extracted_skills = extract_skills_from_resume(text, skills_list)\n",
    "\n",
    "if extracted_skills:\n",
    "    print(\"Skills:\", extracted_skills)\n",
    "else:\n",
    "    print(\"No skills found\")"
   ]
  },
  {
   "cell_type": "markdown",
   "id": "8887382b",
   "metadata": {},
   "source": [
    "Extracting education"
   ]
  },
  {
   "cell_type": "code",
   "execution_count": 22,
   "id": "0d88ae09",
   "metadata": {},
   "outputs": [
    {
     "name": "stdout",
     "output_type": "stream",
     "text": [
      "Education: ['Computer Science', 'management', 'Secondary Education', 'Senior Secondary Education']\n"
     ]
    }
   ],
   "source": [
    "import re\n",
    "\n",
    "def extract_education_from_resume(text):\n",
    "    education = []\n",
    "\n",
    "  \n",
    "    education_keywords = [\n",
    "        'Computer Science', 'Information Technology', 'Software Engineering', 'Electrical Engineering', 'Mechanical Engineering', 'Civil Engineering',\n",
    "        'Chemical Engineering', 'Biomedical Engineering', 'Aerospace Engineering', 'Nuclear Engineering', 'Industrial Engineering', 'Systems Engineering',\n",
    "        'Environmental Engineering', 'Petroleum Engineering', 'Geological Engineering', 'Marine Engineering', 'Robotics Engineering', 'Biotechnology',\n",
    "        'Biochemistry', 'Microbiology', 'Genetics', 'Molecular Biology', 'Bioinformatics', 'Neuroscience', 'Biophysics', 'Biostatistics', 'Pharmacology',\n",
    "        'Physiology', 'Anatomy', 'Pathology', 'Immunology', 'Epidemiology', 'Public Health', 'Health Administration', 'Nursing', 'Medicine', 'Dentistry',\n",
    "        'Pharmacy', 'Veterinary Medicine', 'Medical Technology', 'Radiography', 'Physical Therapy', 'Occupational Therapy', 'Speech Therapy', 'Nutrition',\n",
    "        'Sports Science', 'Kinesiology', 'Exercise Physiology', 'Sports Medicine', 'Rehabilitation Science', 'Psychology', 'Counseling', 'Social Work',\n",
    "        'Sociology', 'Anthropology', 'Criminal Justice', 'Political Science', 'International Relations', 'Economics', 'Finance', 'Accounting', 'Business Administration',\n",
    "        'Management', 'Marketing', 'Entrepreneurship', 'Hospitality Management', 'Tourism Management', 'Supply Chain Management', 'Logistics Management',\n",
    "        'Operations Management', 'Human Resource Management', 'Organizational Behavior', 'Project Management', 'Quality Management', 'Risk Management',\n",
    "        'Strategic Management', 'Public Administration', 'Urban Planning', 'Architecture', 'Interior Design', 'Landscape Architecture', 'Fine Arts',\n",
    "        'Visual Arts', 'Graphic Design', 'Fashion Design', 'Industrial Design', 'Product Design', 'Animation', 'Film Studies', 'Media Studies',\n",
    "        'Communication Studies', 'Journalism', 'Broadcasting', 'Creative Writing', 'English Literature', 'Linguistics', 'Translation Studies',\n",
    "        'Foreign Languages', 'Modern Languages', 'Classical Studies', 'History', 'Archaeology', 'Philosophy', 'Theology', 'Religious Studies',\n",
    "        'Ethics', 'Early Childhood Education', 'Elementary Education', 'Secondary Education', 'Special Education', 'Higher Education',\n",
    "        'Adult Education', 'Distance Education', 'Online Education', 'Instructional Design', 'Curriculum Development',\n",
    "        'Library Science', 'Information Science', 'Computer Engineering', 'Software Development', 'Cybersecurity', 'Information Security',\n",
    "        'Network Engineering', 'Data Science', 'Data Analytics', 'Business Analytics', 'Operations Research', 'Decision Sciences',\n",
    "        'Human-Computer Interaction', 'User Experience Design', 'User Interface Design', 'Digital Marketing', 'Content Strategy',\n",
    "        'Brand Management', 'Public Relations', 'Corporate Communications', 'Media Production', 'Digital Media', 'Web Development',\n",
    "        'Mobile App Development', 'Game Development', 'Virtual Reality', 'Augmented Reality', 'Blockchain Technology', 'Cryptocurrency',\n",
    "        'Digital Forensics', 'Forensic Science', 'Criminalistics', 'Crime Scene Investigation', 'Emergency Management', 'Fire Science',\n",
    "        'Environmental Science', 'Climate Science', 'Meteorology', 'Geography', 'Geomatics', 'Remote Sensing', 'Geoinformatics',\n",
    "        'Cartography', 'GIS (Geographic Information Systems)', 'Environmental Management', 'Sustainability Studies', 'Renewable Energy',\n",
    "        'Green Technology', 'Ecology', 'Conservation Biology', 'Wildlife Biology', 'Zoology', 'Senior Secondary education'\n",
    "    ]\n",
    "\n",
    "    for keyword in education_keywords:\n",
    "        pattern = r\"(?i)\\b{}\\b\".format(re.escape(keyword))\n",
    "        match = re.search(pattern, text)\n",
    "        if match:\n",
    "            education.append(match.group())\n",
    "\n",
    "    return education\n",
    "\n",
    "extracted_education = extract_education_from_resume(text)\n",
    "if extracted_education:\n",
    "    print(\"Education:\", extracted_education)\n",
    "else:\n",
    "    print(\"No education information found\")"
   ]
  },
  {
   "cell_type": "markdown",
   "id": "54bd916e",
   "metadata": {},
   "source": [
    "Extracting name using Spacy"
   ]
  },
  {
   "cell_type": "code",
   "execution_count": 25,
   "id": "f02bb92f",
   "metadata": {},
   "outputs": [
    {
     "name": "stdout",
     "output_type": "stream",
     "text": [
      "Name: Astha Vashisth\n"
     ]
    }
   ],
   "source": [
    "def extract_name_from_resume(text):\n",
    "    name = None\n",
    "\n",
    "\n",
    "    pattern = r\"(\\b[A-Z][a-z]+\\b)\\s(\\b[A-Z][a-z]+\\b)\"\n",
    "    match = re.search(pattern, text)\n",
    "    if match:\n",
    "        name = match.group()\n",
    "\n",
    "    return name\n",
    "\n",
    "name = extract_name_from_resume(text)\n",
    "\n",
    "if name:\n",
    "    print(\"Name:\", name)\n",
    "else:\n",
    "    print(\"Name not found\")"
   ]
  }
 ],
 "metadata": {
  "kernelspec": {
   "display_name": "resume_parser_venv",
   "language": "python",
   "name": "python3"
  },
  "language_info": {
   "codemirror_mode": {
    "name": "ipython",
    "version": 3
   },
   "file_extension": ".py",
   "mimetype": "text/x-python",
   "name": "python",
   "nbconvert_exporter": "python",
   "pygments_lexer": "ipython3",
   "version": "3.10.0"
  }
 },
 "nbformat": 4,
 "nbformat_minor": 5
}

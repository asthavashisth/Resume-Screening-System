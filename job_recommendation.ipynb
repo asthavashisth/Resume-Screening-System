{
 "cells": [
  {
   "cell_type": "code",
   "execution_count": 1,
   "id": "b5282d57",
   "metadata": {},
   "outputs": [],
   "source": [
    "import pandas as pd\n"
   ]
  },
  {
   "cell_type": "code",
   "execution_count": 4,
   "metadata": {},
   "outputs": [],
   "source": [
    "df=pd.read_csv('jobs_dataset_with_features.csv')"
   ]
  },
  {
   "cell_type": "code",
   "execution_count": null,
   "metadata": {},
   "outputs": [
    {
     "data": {
      "text/plain": [
       "(1615940, 2)"
      ]
     },
     "execution_count": 5,
     "metadata": {},
     "output_type": "execute_result"
    }
   ],
   "source": [
    "df.shape"
   ]
  },
  {
   "cell_type": "code",
   "execution_count": 6,
   "id": "375a62d6",
   "metadata": {},
   "outputs": [
    {
     "data": {
      "text/html": [
       "<div>\n",
       "<style scoped>\n",
       "    .dataframe tbody tr th:only-of-type {\n",
       "        vertical-align: middle;\n",
       "    }\n",
       "\n",
       "    .dataframe tbody tr th {\n",
       "        vertical-align: top;\n",
       "    }\n",
       "\n",
       "    .dataframe thead th {\n",
       "        text-align: right;\n",
       "    }\n",
       "</style>\n",
       "<table border=\"1\" class=\"dataframe\">\n",
       "  <thead>\n",
       "    <tr style=\"text-align: right;\">\n",
       "      <th></th>\n",
       "      <th>Role</th>\n",
       "      <th>Features</th>\n",
       "    </tr>\n",
       "  </thead>\n",
       "  <tbody>\n",
       "    <tr>\n",
       "      <th>0</th>\n",
       "      <td>Social Media Manager</td>\n",
       "      <td>5 to 15 Years Digital Marketing Specialist M.T...</td>\n",
       "    </tr>\n",
       "    <tr>\n",
       "      <th>1</th>\n",
       "      <td>Frontend Web Developer</td>\n",
       "      <td>2 to 12 Years Web Developer BCA HTML, CSS, Jav...</td>\n",
       "    </tr>\n",
       "    <tr>\n",
       "      <th>2</th>\n",
       "      <td>Quality Control Manager</td>\n",
       "      <td>0 to 12 Years Operations Manager PhD Quality c...</td>\n",
       "    </tr>\n",
       "    <tr>\n",
       "      <th>3</th>\n",
       "      <td>Wireless Network Engineer</td>\n",
       "      <td>4 to 11 Years Network Engineer PhD Wireless ne...</td>\n",
       "    </tr>\n",
       "    <tr>\n",
       "      <th>4</th>\n",
       "      <td>Conference Manager</td>\n",
       "      <td>1 to 12 Years Event Manager MBA Event planning...</td>\n",
       "    </tr>\n",
       "  </tbody>\n",
       "</table>\n",
       "</div>"
      ],
      "text/plain": [
       "                        Role  \\\n",
       "0       Social Media Manager   \n",
       "1     Frontend Web Developer   \n",
       "2    Quality Control Manager   \n",
       "3  Wireless Network Engineer   \n",
       "4         Conference Manager   \n",
       "\n",
       "                                            Features  \n",
       "0  5 to 15 Years Digital Marketing Specialist M.T...  \n",
       "1  2 to 12 Years Web Developer BCA HTML, CSS, Jav...  \n",
       "2  0 to 12 Years Operations Manager PhD Quality c...  \n",
       "3  4 to 11 Years Network Engineer PhD Wireless ne...  \n",
       "4  1 to 12 Years Event Manager MBA Event planning...  "
      ]
     },
     "execution_count": 6,
     "metadata": {},
     "output_type": "execute_result"
    }
   ],
   "source": [
    "df.head()"
   ]
  },
  {
   "cell_type": "code",
   "execution_count": 8,
   "id": "5f26165f",
   "metadata": {},
   "outputs": [
    {
     "data": {
      "text/plain": [
       "Role\n",
       "Interaction Designer            20580\n",
       "Network Administrator           17470\n",
       "User Interface Designer         14036\n",
       "Social Media Manager            13945\n",
       "User Experience Designer        13935\n",
       "                                ...  \n",
       "Inventory Control Specialist     3342\n",
       "Budget Analyst                   3335\n",
       "Clinical Nurse Manager           3324\n",
       "Social Science Researcher        3321\n",
       "Paid Advertising Specialist      3306\n",
       "Name: count, Length: 376, dtype: int64"
      ]
     },
     "execution_count": 8,
     "metadata": {},
     "output_type": "execute_result"
    }
   ],
   "source": [
    "df['Role'].value_counts()"
   ]
  },
  {
   "cell_type": "code",
   "execution_count": 9,
   "id": "6a9e46f8",
   "metadata": {},
   "outputs": [
    {
     "data": {
      "text/plain": [
       "376"
      ]
     },
     "execution_count": 9,
     "metadata": {},
     "output_type": "execute_result"
    }
   ],
   "source": [
    "len(df['Role'].value_counts())"
   ]
  },
  {
   "cell_type": "markdown",
   "id": "b80bc31e",
   "metadata": {},
   "source": [
    "Dropping classes with less than 6500 instances\n"
   ]
  },
  {
   "cell_type": "code",
   "execution_count": 10,
   "id": "a7fe60d4",
   "metadata": {},
   "outputs": [
    {
     "data": {
      "text/plain": [
       "Role\n",
       "Interaction Designer          20580\n",
       "Network Administrator         17470\n",
       "User Interface Designer       14036\n",
       "Social Media Manager          13945\n",
       "User Experience Designer      13935\n",
       "                              ...  \n",
       "Benefits Coordinator           6839\n",
       "Research Analyst               6830\n",
       "Administrative Coordinator     6803\n",
       "IT Support Specialist          6799\n",
       "UI/UX Designer                 6743\n",
       "Name: count, Length: 61, dtype: int64"
      ]
     },
     "execution_count": 10,
     "metadata": {},
     "output_type": "execute_result"
    }
   ],
   "source": [
    "min_count=6500\n",
    "role_counts=df['Role'].value_counts()\n",
    "dropped_classes=role_counts[role_counts<min_count].index\n",
    "filtered_df=df[~df['Role'].isin(dropped_classes)].reset_index(drop=True)\n",
    "\n",
    "filtered_df['Role'].value_counts()"
   ]
  },
  {
   "cell_type": "code",
   "execution_count": 12,
   "id": "7d1e23cf",
   "metadata": {},
   "outputs": [
    {
     "data": {
      "text/plain": [
       "61"
      ]
     },
     "execution_count": 12,
     "metadata": {},
     "output_type": "execute_result"
    }
   ],
   "source": [
    "len(filtered_df['Role'].value_counts())"
   ]
  },
  {
   "cell_type": "code",
   "execution_count": 13,
   "id": "05a8044f",
   "metadata": {},
   "outputs": [],
   "source": [
    "df=filtered_df.sample(n=100000)"
   ]
  },
  {
   "cell_type": "code",
   "execution_count": 14,
   "id": "aa461044",
   "metadata": {},
   "outputs": [
    {
     "data": {
      "text/html": [
       "<div>\n",
       "<style scoped>\n",
       "    .dataframe tbody tr th:only-of-type {\n",
       "        vertical-align: middle;\n",
       "    }\n",
       "\n",
       "    .dataframe tbody tr th {\n",
       "        vertical-align: top;\n",
       "    }\n",
       "\n",
       "    .dataframe thead th {\n",
       "        text-align: right;\n",
       "    }\n",
       "</style>\n",
       "<table border=\"1\" class=\"dataframe\">\n",
       "  <thead>\n",
       "    <tr style=\"text-align: right;\">\n",
       "      <th></th>\n",
       "      <th>Role</th>\n",
       "      <th>Features</th>\n",
       "    </tr>\n",
       "  </thead>\n",
       "  <tbody>\n",
       "    <tr>\n",
       "      <th>445132</th>\n",
       "      <td>Backend Developer</td>\n",
       "      <td>4 to 10 Years Software Engineer B.Com Proficie...</td>\n",
       "    </tr>\n",
       "    <tr>\n",
       "      <th>136669</th>\n",
       "      <td>Network Administrator</td>\n",
       "      <td>1 to 12 Years Network Engineer B.Tech Network ...</td>\n",
       "    </tr>\n",
       "    <tr>\n",
       "      <th>356895</th>\n",
       "      <td>Quality Assurance Analyst</td>\n",
       "      <td>0 to 12 Years Software Tester B.Com Quality as...</td>\n",
       "    </tr>\n",
       "    <tr>\n",
       "      <th>424299</th>\n",
       "      <td>Interaction Designer</td>\n",
       "      <td>2 to 9 Years UX/UI Designer BA Interaction des...</td>\n",
       "    </tr>\n",
       "    <tr>\n",
       "      <th>67055</th>\n",
       "      <td>Event Planner</td>\n",
       "      <td>1 to 15 Years Event Coordinator B.Tech Event p...</td>\n",
       "    </tr>\n",
       "  </tbody>\n",
       "</table>\n",
       "</div>"
      ],
      "text/plain": [
       "                             Role  \\\n",
       "445132          Backend Developer   \n",
       "136669      Network Administrator   \n",
       "356895  Quality Assurance Analyst   \n",
       "424299       Interaction Designer   \n",
       "67055               Event Planner   \n",
       "\n",
       "                                                 Features  \n",
       "445132  4 to 10 Years Software Engineer B.Com Proficie...  \n",
       "136669  1 to 12 Years Network Engineer B.Tech Network ...  \n",
       "356895  0 to 12 Years Software Tester B.Com Quality as...  \n",
       "424299  2 to 9 Years UX/UI Designer BA Interaction des...  \n",
       "67055   1 to 15 Years Event Coordinator B.Tech Event p...  "
      ]
     },
     "execution_count": 14,
     "metadata": {},
     "output_type": "execute_result"
    }
   ],
   "source": [
    "df.head()"
   ]
  },
  {
   "cell_type": "markdown",
   "id": "63468a63",
   "metadata": {},
   "source": [
    "TFIDF"
   ]
  },
  {
   "cell_type": "code",
   "execution_count": 15,
   "id": "d6c7860a",
   "metadata": {},
   "outputs": [],
   "source": [
    "from sklearn.model_selection import train_test_split\n",
    "from sklearn.feature_extraction.text import TfidfVectorizer\n",
    "from sklearn.ensemble import RandomForestClassifier\n",
    "from sklearn.metrics import accuracy_score,confusion_matrix,classification_report\n",
    "\n",
    "X=df['Features']\n",
    "y=df['Role']\n",
    "\n",
    "X_train,X_test,y_train,y_test=train_test_split(X,y,test_size=0.2,random_state=42)\n",
    "\n",
    "tfidf_vectorizer=TfidfVectorizer()\n",
    "X_train_tfidf=tfidf_vectorizer.fit_transform(X_train)\n",
    "X_test_tfidf=tfidf_vectorizer.transform(X_test)"
   ]
  },
  {
   "cell_type": "code",
   "execution_count": 16,
   "id": "1bda5290",
   "metadata": {},
   "outputs": [
    {
     "name": "stdout",
     "output_type": "stream",
     "text": [
      "Accuracy 1.0\n"
     ]
    }
   ],
   "source": [
    "rf_classifier=RandomForestClassifier()\n",
    "rf_classifier.fit(X_train_tfidf,y_train)\n",
    "\n",
    "y_pred=rf_classifier.predict(X_test_tfidf)\n",
    "accuracy=accuracy_score(y_test,y_pred)\n",
    "print(\"Accuracy\",accuracy)"
   ]
  },
  {
   "cell_type": "markdown",
   "id": "98191371",
   "metadata": {},
   "source": [
    "Recommendation System"
   ]
  },
  {
   "cell_type": "code",
   "execution_count": 17,
   "id": "a7d16343",
   "metadata": {},
   "outputs": [],
   "source": [
    "import re\n",
    "def cleanResume(txt):\n",
    "    cleanText=re.sub('http\\S+\\s',' ',txt)\n",
    "    cleanText=re.sub('RT|cc',' ',cleanText)\n",
    "    cleanText=re.sub('#\\S+\\s',' ',cleanText)\n",
    "    cleanText=re.sub('@\\S+',' ',cleanText)\n",
    "    cleanText=re.sub('[%s]'% re.escape(\"\"\"!\"#$%&'()*+,-./:;<=>?@[\\]^_`{\\}~\"\"\"),' ',cleanText)\n",
    "    cleanText=re.sub(r'[^\\x00-\\x7f]',' ',cleanText)\n",
    "    cleanText=re.sub('\\s+',' ',cleanText)\n",
    "    return cleanText.strip()\n"
   ]
  },
  {
   "cell_type": "code",
   "execution_count": 18,
   "id": "dff6e6a0",
   "metadata": {},
   "outputs": [],
   "source": [
    "def job_recommendation(resume_text):\n",
    "    resume_text=cleanResume(resume_text)\n",
    "    resume_tfidf=tfidf_vectorizer.transform([resume_text])\n",
    "    predicted_category=rf_classifier.predict(resume_tfidf)[0]\n",
    "    return predicted_category"
   ]
  },
  {
   "cell_type": "code",
   "execution_count": 19,
   "id": "1d53f6a9",
   "metadata": {},
   "outputs": [
    {
     "name": "stdout",
     "output_type": "stream",
     "text": [
      "Predicted Category: Benefits Coordinator\n"
     ]
    }
   ],
   "source": [
    "resume_file=\"hr assistant hard work dedicated detailed oriented experienced\"\n",
    "predicted_category=job_recommendation(resume_file)\n",
    "print(\"Predicted Category:\",predicted_category)"
   ]
  },
  {
   "cell_type": "code",
   "execution_count": 20,
   "id": "129a76b3",
   "metadata": {},
   "outputs": [
    {
     "name": "stdout",
     "output_type": "stream",
     "text": [
      "Predicted Category: Network Administrator\n"
     ]
    }
   ],
   "source": [
    "resume_file = \"\"\"\n",
    "Experienced IT Professional with 5+ years in managing hardware, software, and network systems in enterprise environments. \n",
    "Proven ability to provide technical support, maintain systems uptime, and implement security policies. Adept in system administration, \n",
    "troubleshooting, and customer service.\n",
    "\n",
    "Work Experience:\n",
    "- IT Support Specialist at TechZone Ltd. (2019–Present)\n",
    "  - Provided Tier 1 and Tier 2 support for over 300 users across multiple departments\n",
    "  - Managed Active Directory, user accounts, and group policies\n",
    "  - Installed, configured, and maintained Windows servers, desktops, and printers\n",
    "  - Troubleshot network connectivity and VPN issues\n",
    "  - Maintained asset inventory and procurement of hardware/software\n",
    "\n",
    "- System Administrator Intern at InfoGrid Solutions (2018–2019)\n",
    "  - Assisted in server patching, OS upgrades, and firewall configuration\n",
    "  - Monitored network activity using Wireshark and SolarWinds\n",
    "\n",
    "Education:\n",
    "- B.Sc. in Information Technology, ABC Institute of Tech (2015–2018)\n",
    "\n",
    "Certifications:\n",
    "- CompTIA A+\n",
    "- Microsoft Certified: Azure Fundamentals\n",
    "- Cisco CCNA (in progress)\n",
    "\n",
    "Skills:\n",
    "- Operating Systems: Windows, Linux (Ubuntu/CentOS)\n",
    "- Networking: DNS, DHCP, VPN, TCP/IP\n",
    "- Tools: Active Directory, SCCM, Jira, VMware\n",
    "- Soft Skills: Communication, problem-solving, time management\n",
    "\"\"\"\n",
    "\n",
    "\n",
    "predicted_category=job_recommendation(resume_file)\n",
    "print(\"Predicted Category:\",predicted_category)"
   ]
  },
  {
   "cell_type": "code",
   "execution_count": 21,
   "id": "9422b893",
   "metadata": {},
   "outputs": [
    {
     "name": "stdout",
     "output_type": "stream",
     "text": [
      "Predicted Category: User Interface Designer\n"
     ]
    }
   ],
   "source": [
    "resume_file = \"\"\"\n",
    "Creative professional with over 4 years of experience crafting engaging visuals for digital and print platforms. \n",
    "Specialized in layout design, branding, and user interface design. Adept at translating ideas into compelling graphics \n",
    "using industry-standard tools.\n",
    "\n",
    "Work Experience:\n",
    "- Visual Design Specialist at PixelWorks Agency (2020–Present)\n",
    "  - Developed marketing assets including brochures, posters, web banners, and social media content\n",
    "  - Designed logos and brand kits for startups and established brands\n",
    "  - Collaborated with marketing teams to ensure brand consistency across channels\n",
    "  - Built interactive UI mockups for web and mobile apps using Figma and Adobe XD\n",
    "\n",
    "- Design Associate at CreativeEdge Studio (2018–2020)\n",
    "  - Assisted senior team in image editing, layout structuring, and visual hierarchy optimization\n",
    "  - Worked on packaging design and final artwork for print\n",
    "\n",
    "Education:\n",
    "- Bachelor of Design, School of Visual Arts, Delhi (2015–2018)\n",
    "\n",
    "Skills:\n",
    "- Tools: Adobe Photoshop, Illustrator, InDesign, Figma, Adobe XD\n",
    "- Focus Areas: Branding, Typography, UI/UX, Print Design\n",
    "- Strengths: Creativity, time management, team collaboration\n",
    "- Familiar with Windows and MacOS environments\n",
    "\"\"\"\n",
    "predicted_category=job_recommendation(resume_file)\n",
    "print(\"Predicted Category:\",predicted_category)"
   ]
  },
  {
   "cell_type": "code",
   "execution_count": 23,
   "id": "ad763a0c",
   "metadata": {},
   "outputs": [
    {
     "name": "stdout",
     "output_type": "stream",
     "text": [
      "Predicted Category: Business Intelligence Analyst\n"
     ]
    }
   ],
   "source": [
    "resume_file = \"\"\"\n",
    "Results-oriented financial analyst with 3+ years of experience in investment banking and financial modeling. \n",
    "Skilled in analyzing balance sheets, income statements, and forecasting financial trends. Proficient in using Excel, Power BI, and SQL to perform deep data analysis. \n",
    "\n",
    "Collaborated with cross-functional teams to prepare due diligence reports and valuation models for M&A deals. \n",
    "Supported senior bankers in client presentations, financial benchmarking, and preparing pitch books.\n",
    "\n",
    "Key competencies:\n",
    "- Risk assessment and compliance analysis\n",
    "- Financial forecasting and budgeting\n",
    "- Credit analysis and loan portfolio review\n",
    "- Capital markets and securities research\n",
    "\n",
    "Education:\n",
    "- B.Com (Hons) in Finance, Delhi University\n",
    "- Certified Financial Analyst (CFA) Level II candidate\n",
    "\n",
    "Tools: MS Excel, Bloomberg Terminal, Python (pandas), Tableau\n",
    "\n",
    "Looking forward to contributing to dynamic banking and finance environments through data-driven decision making and strategic insights.\n",
    "\n",
    "\"\"\"\n",
    "predicted_category=job_recommendation(resume_file)\n",
    "print(\"Predicted Category:\",predicted_category)"
   ]
  },
  {
   "cell_type": "code",
   "execution_count": 24,
   "id": "27d89418",
   "metadata": {},
   "outputs": [],
   "source": [
    "import pickle\n",
    "pickle.dump(rf_classifier,open('models/rf_classifier_job_recommendation.pkl','wb'))\n",
    "pickle.dump(tfidf_vectorizer,open('models/tfidf_vectorizer_job_recommendation.pkl','wb'))"
   ]
  },
  {
   "cell_type": "code",
   "execution_count": null,
   "id": "16e39c23",
   "metadata": {},
   "outputs": [],
   "source": []
  },
  {
   "cell_type": "code",
   "execution_count": null,
   "metadata": {},
   "outputs": [],
   "source": []
  },
  {
   "cell_type": "code",
   "execution_count": null,
   "id": "3fd7143b",
   "metadata": {},
   "outputs": [],
   "source": []
  },
  {
   "cell_type": "code",
   "execution_count": null,
   "id": "69619ca9",
   "metadata": {},
   "outputs": [],
   "source": []
  },
  {
   "cell_type": "code",
   "execution_count": null,
   "id": "9583ac13",
   "metadata": {},
   "outputs": [],
   "source": []
  },
  {
   "cell_type": "code",
   "execution_count": null,
   "id": "11913736",
   "metadata": {},
   "outputs": [],
   "source": []
  }
 ],
 "metadata": {
  "kernelspec": {
   "display_name": "resume_parser_venv",
   "language": "python",
   "name": "python3"
  },
  "language_info": {
   "codemirror_mode": {
    "name": "ipython",
    "version": 3
   },
   "file_extension": ".py",
   "mimetype": "text/x-python",
   "name": "python",
   "nbconvert_exporter": "python",
   "pygments_lexer": "ipython3",
   "version": "3.10.0"
  }
 },
 "nbformat": 4,
 "nbformat_minor": 5
}
